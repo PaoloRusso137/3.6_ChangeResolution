{
  "nbformat": 4,
  "nbformat_minor": 0,
  "metadata": {
    "colab": {
      "name": "3.6_ChangeResolution.ipynb",
      "provenance": [],
      "collapsed_sections": [],
      "authorship_tag": "ABX9TyO3Zc8Xv3gwlOX47hiR0+PS",
      "include_colab_link": true
    },
    "kernelspec": {
      "name": "python3",
      "display_name": "Python 3"
    },
    "language_info": {
      "name": "python"
    },
    "accelerator": "GPU"
  },
  "cells": [
    {
      "cell_type": "markdown",
      "metadata": {
        "id": "view-in-github",
        "colab_type": "text"
      },
      "source": [
        "<a href=\"https://colab.research.google.com/github/PaoloRusso137/3.6_ChangeResolution/blob/main/3_6_ChangeResolution.ipynb\" target=\"_parent\"><img src=\"https://colab.research.google.com/assets/colab-badge.svg\" alt=\"Open In Colab\"/></a>"
      ]
    },
    {
      "cell_type": "code",
      "execution_count": null,
      "metadata": {
        "id": "p3tXTlaFKWqd"
      },
      "outputs": [],
      "source": [
        "from google.colab import drive\n",
        "drive.mount('/content/drive')"
      ]
    },
    {
      "cell_type": "code",
      "source": [
        "!git clone https://github.com/PaoloRusso137/3.6_ChangeResolution.git"
      ],
      "metadata": {
        "id": "7j8SF_xfKhXo"
      },
      "execution_count": null,
      "outputs": []
    },
    {
      "cell_type": "code",
      "source": [
        "!mv \"/content/3.6_ChangeResolution\" \"drive/MyDrive\""
      ],
      "metadata": {
        "id": "AIBzGOsMKlVO"
      },
      "execution_count": 3,
      "outputs": []
    },
    {
      "cell_type": "code",
      "source": [
        "from zipfile import ZipFile\n",
        "file_name = \"/content/drive/MyDrive/pitts30k.zip\"\n",
        "\n",
        "with ZipFile(file_name, 'r') as zip:\n",
        "  zip.extractall()\n",
        "  print('Done')"
      ],
      "metadata": {
        "id": "t5uQdX7cKwsX"
      },
      "execution_count": null,
      "outputs": []
    },
    {
      "cell_type": "code",
      "source": [
        "#package installation\n",
        "\n",
        "!pip install faiss_cpu==1.7.1\n",
        "!pip install numpy==1.19.4\n",
        "!pip install Pillow==8.4.0\n",
        "!pip install scikit_learn==1.0.1\n",
        "!pip install torch==1.7.0\n",
        "!pip install torchvision==0.8.1\n",
        "!pip install tqdm==4.48.2"
      ],
      "metadata": {
        "id": "Jxl52cd1mrL0"
      },
      "execution_count": null,
      "outputs": []
    },
    {
      "cell_type": "markdown",
      "source": [
        "**FIRST TRAINING:** The cd command is set to let the RUNS folder (which contains the log and the best_model) inside the GOOGLE DRIVE where the train was run\n",
        "\n",
        "Since the train have been already performed, the best_model is directly put inside the GitHub"
      ],
      "metadata": {
        "id": "LkSpGH2qOFRZ"
      }
    },
    {
      "cell_type": "code",
      "source": [
        "%cd \"/content/drive/MyDrive/3.6_ChangeResolution\""
      ],
      "metadata": {
        "colab": {
          "base_uri": "https://localhost:8080/"
        },
        "id": "B5y9EckTM7hH",
        "outputId": "9301b901-f06b-41ee-85bc-f6b450733cbe"
      },
      "execution_count": 4,
      "outputs": [
        {
          "output_type": "stream",
          "name": "stdout",
          "text": [
            "/content/drive/MyDrive/3.6_ChangeResolution\n"
          ]
        }
      ]
    },
    {
      "cell_type": "markdown",
      "source": [
        "# **TRAIN**"
      ],
      "metadata": {
        "id": "vhsOG5NjPCT_"
      }
    },
    {
      "cell_type": "code",
      "source": [
        "!python \"train.py\" --datasets_folder \"/content/\""
      ],
      "metadata": {
        "id": "pxyQUsk9Os_L"
      },
      "execution_count": null,
      "outputs": []
    },
    {
      "cell_type": "markdown",
      "source": [
        "# **TEST** \n",
        "Please NOTE that the test here proposed is set fro the best_model.pth downloaded from the GitHub."
      ],
      "metadata": {
        "id": "sVtMpXP7PIGC"
      }
    },
    {
      "cell_type": "markdown",
      "source": [
        "To have the test done over the best_model just created from a training above; THE DIRECTORY IN THE FILE **REAL_TEST.PY** AL LINE 44 HAS TO BE CHANGED WITH THE DIRECTORY OF THE NEW CALCULATED BEST_MODEL.PTH INSIDE THE RUNS FOLDER"
      ],
      "metadata": {
        "id": "Aty4WkMWQRoX"
      }
    },
    {
      "cell_type": "code",
      "source": [
        "from zipfile import ZipFile\n",
        "file_name = \"/content/drive/MyDrive/3.6_ChangeResolution/best_model.zip\"\n",
        "\n",
        "with ZipFile(file_name, 'r') as zip:\n",
        "  zip.extractall()\n",
        "  print('Done')"
      ],
      "metadata": {
        "id": "jQ__-NSwT8fs"
      },
      "execution_count": null,
      "outputs": []
    },
    {
      "cell_type": "code",
      "source": [
        "!python \"real_test.py\" --datasets_folder \"/content/\""
      ],
      "metadata": {
        "id": "99CUh8VLQH4n"
      },
      "execution_count": null,
      "outputs": []
    }
  ]
}